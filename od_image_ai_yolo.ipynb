{
  "nbformat": 4,
  "nbformat_minor": 0,
  "metadata": {
    "colab": {
      "name": "od_image_ai_yolo.ipynb",
      "version": "0.3.2",
      "provenance": [],
      "collapsed_sections": [],
      "include_colab_link": true
    },
    "kernelspec": {
      "name": "python3",
      "display_name": "Python 3"
    }
  },
  "cells": [
    {
      "cell_type": "markdown",
      "metadata": {
        "id": "view-in-github",
        "colab_type": "text"
      },
      "source": [
        "<a href=\"https://colab.research.google.com/github/disertasiJasman/objectDetection/blob/master/od_image_ai_yolo.ipynb\" target=\"_parent\"><img src=\"https://colab.research.google.com/assets/colab-badge.svg\" alt=\"Open In Colab\"/></a>"
      ]
    },
    {
      "metadata": {
        "id": "zFARWOBGrI4S",
        "colab_type": "code",
        "outputId": "75fa4042-ac8c-4f18-ba4f-8f4a7138b9fa",
        "colab": {
          "base_uri": "https://localhost:8080/",
          "height": 926
        }
      },
      "cell_type": "code",
      "source": [
        "from imageai.Detection import ObjectDetection\n",
        "import os\n",
        "\n",
        "def main():\n",
        "    print(\"Object Yolo\")\n",
        "    model_path = \"/content/gdrive/My Drive/project/object_detection/models\"\n",
        "    image_source_path = \"/content/gdrive/My Drive/project/object_detection/images_source\"\n",
        "    image_target_path = \"/content/gdrive/My Drive/project/object_detection/images_target\"\n",
        "    \n",
        "    detector = ObjectDetection()\n",
        "    detector.setModelTypeAsYOLOv3()\n",
        "    detector.setModelPath(os.path.join(model_path, \"yolo.h5\"))\n",
        "    detector.loadModel()\n",
        "\n",
        "    detections, objects_path = detector.detectObjectsFromImage(input_image=os.path.join(image_source_path,\"13.jpg\"),\n",
        "                                                               output_image_path=os.path.join(image_target_path,\n",
        "                                                                                              \"rs_output\"),\n",
        "                                                               minimum_percentage_probability=30,\n",
        "                                                               extract_detected_objects=True)\n",
        "\n",
        "    for eachObject, eachObjectPath in zip(detections, objects_path):\n",
        "        print(eachObject[\"name\"], \" : \", eachObject[\"percentage_probability\"], \" : \", eachObject[\"box_points\"])\n",
        "        print(\"Object's image saved in \" + eachObjectPath)\n",
        "    print(\"--------------------------------\")\n",
        "\n",
        "    \n",
        "\n",
        "if __name__ == \"__main__\":\n",
        "    main()"
      ],
      "execution_count": 0,
      "outputs": [
        {
          "output_type": "stream",
          "text": [
            "Using TensorFlow backend.\n"
          ],
          "name": "stderr"
        },
        {
          "output_type": "stream",
          "text": [
            "Object Yolo\n",
            "WARNING:tensorflow:From /usr/local/lib/python3.6/dist-packages/tensorflow/python/framework/op_def_library.py:263: colocate_with (from tensorflow.python.framework.ops) is deprecated and will be removed in a future version.\n",
            "Instructions for updating:\n",
            "Colocations handled automatically by placer.\n",
            "keyboard  :  45.16446590423584  :  (115, 179, 174, 200)\n",
            "Object's image saved in /content/gdrive/My Drive/project/object_detection/images_target/rs_output-objects/keyboard-1.jpg\n",
            "keyboard  :  48.82701933383942  :  (239, 243, 306, 272)\n",
            "Object's image saved in /content/gdrive/My Drive/project/object_detection/images_target/rs_output-objects/keyboard-2.jpg\n",
            "keyboard  :  52.58212685585022  :  (59, 156, 111, 170)\n",
            "Object's image saved in /content/gdrive/My Drive/project/object_detection/images_target/rs_output-objects/keyboard-3.jpg\n",
            "mouse  :  36.003074049949646  :  (206, 232, 243, 248)\n",
            "Object's image saved in /content/gdrive/My Drive/project/object_detection/images_target/rs_output-objects/mouse-4.jpg\n",
            "laptop  :  61.881422996520996  :  (356, 148, 416, 187)\n",
            "Object's image saved in /content/gdrive/My Drive/project/object_detection/images_target/rs_output-objects/laptop-5.jpg\n",
            "laptop  :  65.27454257011414  :  (64, 117, 136, 176)\n",
            "Object's image saved in /content/gdrive/My Drive/project/object_detection/images_target/rs_output-objects/laptop-6.jpg\n",
            "laptop  :  79.03031706809998  :  (233, 119, 286, 161)\n",
            "Object's image saved in /content/gdrive/My Drive/project/object_detection/images_target/rs_output-objects/laptop-7.jpg\n",
            "laptop  :  90.33724069595337  :  (287, 132, 348, 170)\n",
            "Object's image saved in /content/gdrive/My Drive/project/object_detection/images_target/rs_output-objects/laptop-8.jpg\n",
            "laptop  :  95.48211097717285  :  (211, 194, 371, 292)\n",
            "Object's image saved in /content/gdrive/My Drive/project/object_detection/images_target/rs_output-objects/laptop-9.jpg\n",
            "laptop  :  97.96136021614075  :  (412, 151, 495, 203)\n",
            "Object's image saved in /content/gdrive/My Drive/project/object_detection/images_target/rs_output-objects/laptop-10.jpg\n",
            "laptop  :  98.11033606529236  :  (83, 127, 183, 201)\n",
            "Object's image saved in /content/gdrive/My Drive/project/object_detection/images_target/rs_output-objects/laptop-11.jpg\n",
            "laptop  :  98.4191358089447  :  (273, 207, 443, 315)\n",
            "Object's image saved in /content/gdrive/My Drive/project/object_detection/images_target/rs_output-objects/laptop-12.jpg\n",
            "laptop  :  98.53284955024719  :  (486, 165, 589, 227)\n",
            "Object's image saved in /content/gdrive/My Drive/project/object_detection/images_target/rs_output-objects/laptop-13.jpg\n",
            "laptop  :  99.08534288406372  :  (155, 153, 266, 245)\n",
            "Object's image saved in /content/gdrive/My Drive/project/object_detection/images_target/rs_output-objects/laptop-14.jpg\n",
            "tv  :  87.00145483016968  :  (462, 50, 515, 98)\n",
            "Object's image saved in /content/gdrive/My Drive/project/object_detection/images_target/rs_output-objects/tv-15.jpg\n",
            "chair  :  30.23809790611267  :  (227, 116, 272, 152)\n",
            "Object's image saved in /content/gdrive/My Drive/project/object_detection/images_target/rs_output-objects/chair-16.jpg\n",
            "chair  :  36.34030520915985  :  (270, 78, 297, 98)\n",
            "Object's image saved in /content/gdrive/My Drive/project/object_detection/images_target/rs_output-objects/chair-17.jpg\n",
            "chair  :  55.80511689186096  :  (252, 100, 289, 134)\n",
            "Object's image saved in /content/gdrive/My Drive/project/object_detection/images_target/rs_output-objects/chair-18.jpg\n",
            "chair  :  56.83022737503052  :  (162, 103, 204, 142)\n",
            "Object's image saved in /content/gdrive/My Drive/project/object_detection/images_target/rs_output-objects/chair-19.jpg\n",
            "chair  :  91.83259606361389  :  (110, 221, 244, 314)\n",
            "Object's image saved in /content/gdrive/My Drive/project/object_detection/images_target/rs_output-objects/chair-20.jpg\n",
            "chair  :  99.1050660610199  :  (5, 159, 118, 315)\n",
            "Object's image saved in /content/gdrive/My Drive/project/object_detection/images_target/rs_output-objects/chair-21.jpg\n",
            "person  :  77.68336534500122  :  (281, 51, 334, 150)\n",
            "Object's image saved in /content/gdrive/My Drive/project/object_detection/images_target/rs_output-objects/person-22.jpg\n",
            "person  :  99.8597800731659  :  (283, 8, 441, 164)\n",
            "Object's image saved in /content/gdrive/My Drive/project/object_detection/images_target/rs_output-objects/person-23.jpg\n",
            "--------------------------------\n"
          ],
          "name": "stdout"
        }
      ]
    }
  ]
}